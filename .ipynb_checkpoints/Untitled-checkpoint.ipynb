{
 "cells": [
  {
   "cell_type": "code",
   "execution_count": 2,
   "id": "personal-moore",
   "metadata": {},
   "outputs": [],
   "source": [
    "import numpy as np\n",
    "import pandas as pd\n",
    "import matplotlib.pyplot as plt\n",
    "\n",
    "from tqdm import tqdm\n",
    "\n",
    "# from .utils import *"
   ]
  },
  {
   "cell_type": "code",
   "execution_count": 101,
   "id": "prerequisite-sport",
   "metadata": {},
   "outputs": [],
   "source": [
    "class MulticlassLR():\n",
    "    def __init__(self, num_classes):\n",
    "        self.num_classes = num_classes\n",
    "        self.theta = None\n",
    "        self.theta_history = []\n",
    "        self.loss_history = []\n",
    "        self.X = None\n",
    "        self.y = None\n",
    "        \n",
    "    def init_data(self, X, y):\n",
    "        o = np.ones((X.shape[0], 1))\n",
    "        self.X = np.concatenate((o, X), axis=1)\n",
    "        self.y = y\n",
    "        \n",
    "    def indicator(self, i, j):\n",
    "        if i==j:\n",
    "            return 1\n",
    "        else:\n",
    "            return 0\n",
    "\n",
    "    def probab(self, theta, x_i, class_no):\n",
    "        theta_class = theta[class_no]\n",
    "        numer = np.exp(theta_class @ x_i.T)\n",
    "        denom = np.sum(np.exp(theta @ x_i.T))\n",
    "        p = numer/denom\n",
    "        return p\n",
    "    \n",
    "    def delta_J(self, theta, class_no):\n",
    "        '''\n",
    "        Function to calculate gradient of theta wrt class_no class\n",
    "        '''\n",
    "        grad = np.zeros(self.theta.shape[1])\n",
    "        num_samples = self.X.shape[0]\n",
    "        for i in range(num_samples):\n",
    "            grad -= self.X[i] * (self.indicator(self.y[i], class_no) - self.probab(theta, self.X[i], class_no))\n",
    "        grad /= num_samples\n",
    "        return grad"
   ]
  },
  {
   "cell_type": "code",
   "execution_count": 102,
   "id": "fluid-leonard",
   "metadata": {},
   "outputs": [],
   "source": [
    "from sklearn.datasets import load_digits\n",
    "from sklearn.preprocessing import MinMaxScaler\n",
    "\n",
    "normalized = MinMaxScaler(feature_range=(-1,1))\n",
    "\n",
    "digits_dataset = load_digits()\n",
    "\n",
    "data = digits_dataset['data']\n",
    "data = normalized.fit_transform(data)\n",
    "target = digits_dataset['target']\n",
    "\n",
    "df = pd.DataFrame(data, columns=digits_dataset['feature_names'])\n",
    "df['target'] = target\n",
    "\n",
    "X = df.drop(['target'], axis=1)\n",
    "y = df['target']\n",
    "\n",
    "num_classes = len(digits_dataset['target_names'])"
   ]
  },
  {
   "cell_type": "code",
   "execution_count": 103,
   "id": "coordinated-entertainment",
   "metadata": {},
   "outputs": [],
   "source": [
    "X_arr = np.array(X)"
   ]
  },
  {
   "cell_type": "code",
   "execution_count": 104,
   "id": "intimate-johns",
   "metadata": {},
   "outputs": [],
   "source": [
    "y_arr = np.array(y)"
   ]
  },
  {
   "cell_type": "code",
   "execution_count": 105,
   "id": "conservative-journal",
   "metadata": {},
   "outputs": [
    {
     "data": {
      "text/plain": [
       "array([-1.        , -1.        , -0.375     ,  0.625     ,  0.125     ,\n",
       "       -0.875     , -1.        , -1.        , -1.        , -1.        ,\n",
       "        0.625     ,  0.875     ,  0.25      ,  0.875     , -0.375     ,\n",
       "       -1.        , -1.        , -0.625     ,  0.875     , -0.75      ,\n",
       "       -1.        ,  0.375     ,  0.        , -1.        , -1.        ,\n",
       "       -0.46666667,  0.5       , -1.        , -1.        ,  0.        ,\n",
       "        0.06666667, -1.        , -1.        , -0.28571429,  0.        ,\n",
       "       -1.        , -1.        ,  0.125     ,  0.14285714, -1.        ,\n",
       "       -1.        , -0.5       ,  0.375     , -1.        , -0.875     ,\n",
       "        0.5       , -0.125     , -1.        , -1.        , -0.75      ,\n",
       "        0.75      , -0.375     ,  0.25      ,  0.5       , -1.        ,\n",
       "       -1.        , -1.        , -1.        , -0.25      ,  0.625     ,\n",
       "        0.25      , -1.        , -1.        , -1.        ])"
      ]
     },
     "execution_count": 105,
     "metadata": {},
     "output_type": "execute_result"
    }
   ],
   "source": [
    "X_arr[0]"
   ]
  },
  {
   "cell_type": "code",
   "execution_count": 106,
   "id": "absolute-diabetes",
   "metadata": {},
   "outputs": [],
   "source": [
    "lr = MulticlassLR(num_classes)"
   ]
  },
  {
   "cell_type": "code",
   "execution_count": 107,
   "id": "written-education",
   "metadata": {},
   "outputs": [],
   "source": [
    "lr.init_data(X_arr, y_arr)"
   ]
  },
  {
   "cell_type": "code",
   "execution_count": 108,
   "id": "instructional-abuse",
   "metadata": {},
   "outputs": [
    {
     "data": {
      "text/plain": [
       "64"
      ]
     },
     "execution_count": 108,
     "metadata": {},
     "output_type": "execute_result"
    }
   ],
   "source": [
    "num_features = X_arr.shape[1]\n",
    "num_features"
   ]
  },
  {
   "cell_type": "code",
   "execution_count": 109,
   "id": "congressional-layer",
   "metadata": {},
   "outputs": [],
   "source": [
    "theta_test = np.random.randn(num_classes, num_features+1)"
   ]
  },
  {
   "cell_type": "code",
   "execution_count": 110,
   "id": "falling-keeping",
   "metadata": {},
   "outputs": [
    {
     "data": {
      "text/plain": [
       "(10, 65)"
      ]
     },
     "execution_count": 110,
     "metadata": {},
     "output_type": "execute_result"
    }
   ],
   "source": [
    "theta_test.shape"
   ]
  },
  {
   "cell_type": "code",
   "execution_count": 111,
   "id": "minus-liverpool",
   "metadata": {},
   "outputs": [],
   "source": [
    "x_trial = np.asarray([1] + list(X_arr[0]))"
   ]
  },
  {
   "cell_type": "code",
   "execution_count": 112,
   "id": "velvet-listening",
   "metadata": {},
   "outputs": [
    {
     "data": {
      "text/plain": [
       "(65,)"
      ]
     },
     "execution_count": 112,
     "metadata": {},
     "output_type": "execute_result"
    }
   ],
   "source": [
    "x_trial.shape"
   ]
  },
  {
   "cell_type": "code",
   "execution_count": 113,
   "id": "delayed-bahrain",
   "metadata": {},
   "outputs": [
    {
     "data": {
      "text/plain": [
       "0.5006549722436705"
      ]
     },
     "execution_count": 113,
     "metadata": {},
     "output_type": "execute_result"
    }
   ],
   "source": [
    "lr.probab(theta_test, x_trial, 2)"
   ]
  },
  {
   "cell_type": "code",
   "execution_count": 114,
   "id": "younger-reproduction",
   "metadata": {},
   "outputs": [],
   "source": [
    "lr.theta = theta_test"
   ]
  },
  {
   "cell_type": "code",
   "execution_count": 115,
   "id": "surprising-notification",
   "metadata": {},
   "outputs": [
    {
     "data": {
      "text/plain": [
       "array([-0.02127934,  0.02127934,  0.00500134, -0.02296912, -0.01833715,\n",
       "        0.00379665,  0.01699153,  0.02192766,  0.02128286,  0.02016662,\n",
       "       -0.01519666, -0.01187734, -0.0264633 , -0.02016878,  0.04477518,\n",
       "        0.02017109,  0.02127975,  0.0207238 ,  0.00959232,  0.05254451,\n",
       "       -0.00530946, -0.06364482,  0.06443366,  0.03872745,  0.02128061,\n",
       "        0.02127935,  0.05045264,  0.09800123,  0.00486506, -0.07136199,\n",
       "        0.06524195,  0.07073519,  0.02127949,  0.02127934,  0.06021807,\n",
       "        0.07105043, -0.06510188, -0.07891501,  0.07843899,  0.09443799,\n",
       "        0.02127934,  0.02127938,  0.03561767,  0.02406466, -0.11028624,\n",
       "       -0.04867673,  0.08891598,  0.07325673,  0.02072759,  0.02086206,\n",
       "        0.01217125, -0.01313919, -0.07462343, -0.04076967,  0.01716248,\n",
       "       -0.02158183,  0.01241862,  0.02016637,  0.0046573 , -0.02784688,\n",
       "       -0.01127695, -0.00987265, -0.05082776, -0.05892349,  0.00202969])"
      ]
     },
     "execution_count": 115,
     "metadata": {},
     "output_type": "execute_result"
    }
   ],
   "source": [
    "lr.delta_J(theta_test, 2)"
   ]
  },
  {
   "cell_type": "code",
   "execution_count": 116,
   "id": "meaning-figure",
   "metadata": {},
   "outputs": [
    {
     "data": {
      "text/plain": [
       "(1797, 64)"
      ]
     },
     "execution_count": 116,
     "metadata": {},
     "output_type": "execute_result"
    }
   ],
   "source": [
    "X.shape"
   ]
  },
  {
   "cell_type": "code",
   "execution_count": 117,
   "id": "empty-longer",
   "metadata": {},
   "outputs": [
    {
     "data": {
      "text/plain": [
       "(1797, 1)"
      ]
     },
     "execution_count": 117,
     "metadata": {},
     "output_type": "execute_result"
    }
   ],
   "source": [
    "o = np.ones((X.shape[0], 1))\n",
    "o.shape"
   ]
  },
  {
   "cell_type": "code",
   "execution_count": 118,
   "id": "refined-publisher",
   "metadata": {},
   "outputs": [
    {
     "data": {
      "text/plain": [
       "array([[ 1.   , -1.   , -1.   , ..., -1.   , -1.   , -1.   ],\n",
       "       [ 1.   , -1.   , -1.   , ...,  0.25 , -1.   , -1.   ],\n",
       "       [ 1.   , -1.   , -1.   , ...,  1.   ,  0.125, -1.   ],\n",
       "       ...,\n",
       "       [ 1.   , -1.   , -1.   , ..., -0.25 , -1.   , -1.   ],\n",
       "       [ 1.   , -1.   , -1.   , ...,  0.5  , -1.   , -1.   ],\n",
       "       [ 1.   , -1.   , -1.   , ...,  0.5  , -0.875, -1.   ]])"
      ]
     },
     "execution_count": 118,
     "metadata": {},
     "output_type": "execute_result"
    }
   ],
   "source": [
    "np.concatenate((o, X), axis=1)"
   ]
  },
  {
   "cell_type": "code",
   "execution_count": 119,
   "id": "cross-privilege",
   "metadata": {},
   "outputs": [
    {
     "data": {
      "text/plain": [
       "(1797, 64)"
      ]
     },
     "execution_count": 119,
     "metadata": {},
     "output_type": "execute_result"
    }
   ],
   "source": [
    "X.shape"
   ]
  },
  {
   "cell_type": "code",
   "execution_count": 120,
   "id": "polished-bacteria",
   "metadata": {},
   "outputs": [
    {
     "data": {
      "text/plain": [
       "array([-1.        , -1.        , -0.375     ,  0.625     ,  0.125     ,\n",
       "       -0.875     , -1.        , -1.        , -1.        , -1.        ,\n",
       "        0.625     ,  0.875     ,  0.25      ,  0.875     , -0.375     ,\n",
       "       -1.        , -1.        , -0.625     ,  0.875     , -0.75      ,\n",
       "       -1.        ,  0.375     ,  0.        , -1.        , -1.        ,\n",
       "       -0.46666667,  0.5       , -1.        , -1.        ,  0.        ,\n",
       "        0.06666667, -1.        , -1.        , -0.28571429,  0.        ,\n",
       "       -1.        , -1.        ,  0.125     ,  0.14285714, -1.        ,\n",
       "       -1.        , -0.5       ,  0.375     , -1.        , -0.875     ,\n",
       "        0.5       , -0.125     , -1.        , -1.        , -0.75      ,\n",
       "        0.75      , -0.375     ,  0.25      ,  0.5       , -1.        ,\n",
       "       -1.        , -1.        , -1.        , -0.25      ,  0.625     ,\n",
       "        0.25      , -1.        , -1.        , -1.        ])"
      ]
     },
     "execution_count": 120,
     "metadata": {},
     "output_type": "execute_result"
    }
   ],
   "source": [
    "X_arr[0]"
   ]
  },
  {
   "cell_type": "code",
   "execution_count": 121,
   "id": "random-medicine",
   "metadata": {},
   "outputs": [
    {
     "data": {
      "text/plain": [
       "array([[-1.   , -1.   , -0.375, ..., -1.   , -1.   , -1.   ],\n",
       "       [-1.   , -1.   , -1.   , ...,  0.25 , -1.   , -1.   ],\n",
       "       [-1.   , -1.   , -1.   , ...,  1.   ,  0.125, -1.   ],\n",
       "       ...,\n",
       "       [-1.   , -1.   , -0.875, ..., -0.25 , -1.   , -1.   ],\n",
       "       [-1.   , -1.   , -0.75 , ...,  0.5  , -1.   , -1.   ],\n",
       "       [-1.   , -1.   ,  0.25 , ...,  0.5  , -0.875, -1.   ]])"
      ]
     },
     "execution_count": 121,
     "metadata": {},
     "output_type": "execute_result"
    }
   ],
   "source": [
    "X_arr"
   ]
  },
  {
   "cell_type": "code",
   "execution_count": 124,
   "id": "empty-ethiopia",
   "metadata": {},
   "outputs": [
    {
     "data": {
      "text/plain": [
       "(10, 65)"
      ]
     },
     "execution_count": 124,
     "metadata": {},
     "output_type": "execute_result"
    }
   ],
   "source": [
    "theta_test.shape"
   ]
  },
  {
   "cell_type": "code",
   "execution_count": 127,
   "id": "miniature-creature",
   "metadata": {},
   "outputs": [
    {
     "data": {
      "text/plain": [
       "(1797, 65)"
      ]
     },
     "execution_count": 127,
     "metadata": {},
     "output_type": "execute_result"
    }
   ],
   "source": [
    "X_arr = lr.X\n",
    "X_arr.shape"
   ]
  },
  {
   "cell_type": "code",
   "execution_count": 140,
   "id": "consecutive-monster",
   "metadata": {},
   "outputs": [
    {
     "data": {
      "text/plain": [
       "(1797, 10)"
      ]
     },
     "execution_count": 140,
     "metadata": {},
     "output_type": "execute_result"
    }
   ],
   "source": [
    "np.dot(X_arr, theta_test.T).shape"
   ]
  },
  {
   "cell_type": "code",
   "execution_count": 142,
   "id": "organized-filling",
   "metadata": {},
   "outputs": [
    {
     "data": {
      "text/plain": [
       "(1797, 10)"
      ]
     },
     "execution_count": 142,
     "metadata": {},
     "output_type": "execute_result"
    }
   ],
   "source": [
    "(X_arr @ theta_test.T).shape"
   ]
  },
  {
   "cell_type": "code",
   "execution_count": 143,
   "id": "military-crown",
   "metadata": {},
   "outputs": [],
   "source": [
    "mat_prod = X_arr @ theta_test.T"
   ]
  },
  {
   "cell_type": "code",
   "execution_count": 148,
   "id": "streaming-telescope",
   "metadata": {},
   "outputs": [],
   "source": [
    "sums = mat_prod.sum(axis=1)"
   ]
  },
  {
   "cell_type": "code",
   "execution_count": 151,
   "id": "quality-pontiac",
   "metadata": {},
   "outputs": [
    {
     "data": {
      "text/plain": [
       "(1797, 10)"
      ]
     },
     "execution_count": 151,
     "metadata": {},
     "output_type": "execute_result"
    }
   ],
   "source": [
    "mat_prod.shape"
   ]
  },
  {
   "cell_type": "code",
   "execution_count": 152,
   "id": "preceding-flood",
   "metadata": {},
   "outputs": [
    {
     "data": {
      "text/plain": [
       "array([-11.87080472,  -5.0907267 , -16.39695381, ..., -23.04242523,\n",
       "       -32.28288923, -29.63008347])"
      ]
     },
     "execution_count": 152,
     "metadata": {},
     "output_type": "execute_result"
    }
   ],
   "source": [
    "sums"
   ]
  },
  {
   "cell_type": "code",
   "execution_count": 153,
   "id": "grateful-tuner",
   "metadata": {},
   "outputs": [
    {
     "data": {
      "text/plain": [
       "array([-0.08424029, -0.19643561, -0.06098694, ..., -0.04339821,\n",
       "       -0.03097616, -0.03374948])"
      ]
     },
     "execution_count": 153,
     "metadata": {},
     "output_type": "execute_result"
    }
   ],
   "source": [
    "1/sums"
   ]
  },
  {
   "cell_type": "code",
   "execution_count": 156,
   "id": "defensive-basis",
   "metadata": {},
   "outputs": [
    {
     "data": {
      "text/plain": [
       "(1797,)"
      ]
     },
     "execution_count": 156,
     "metadata": {},
     "output_type": "execute_result"
    }
   ],
   "source": [
    "sums.shape"
   ]
  },
  {
   "cell_type": "code",
   "execution_count": 157,
   "id": "narrow-moderator",
   "metadata": {},
   "outputs": [
    {
     "data": {
      "text/plain": [
       "array([-0.42625507,  0.49124055, -0.5953361 ,  0.65713184, -0.16732141,\n",
       "        0.49002812, -0.58228576,  0.76860264,  0.26676136,  0.09743383])"
      ]
     },
     "execution_count": 157,
     "metadata": {},
     "output_type": "execute_result"
    }
   ],
   "source": [
    "mat_prod[0]/sums[0]"
   ]
  },
  {
   "cell_type": "code",
   "execution_count": 160,
   "id": "remarkable-dayton",
   "metadata": {},
   "outputs": [
    {
     "data": {
      "text/plain": [
       "(1797,)"
      ]
     },
     "execution_count": 160,
     "metadata": {},
     "output_type": "execute_result"
    }
   ],
   "source": [
    "mat_prod.max(axis=1).shape"
   ]
  },
  {
   "cell_type": "code",
   "execution_count": 195,
   "id": "severe-passage",
   "metadata": {},
   "outputs": [],
   "source": [
    "def softmax(z):\n",
    "    tmp = z\n",
    "    for i in range(z.shape[0]):\n",
    "        tmp[i]-=max(tmp[i])\n",
    "        tmp[i] = np.exp(tmp[i])\n",
    "        tmp[i]/=tmp[i].sum()\n",
    "    return tmp\n",
    "#     print(sums)\n",
    "#     return z @ (1/sums)"
   ]
  },
  {
   "cell_type": "code",
   "execution_count": 196,
   "id": "smart-turkey",
   "metadata": {},
   "outputs": [
    {
     "data": {
      "text/plain": [
       "array([[1., 2.],\n",
       "       [4., 0.],\n",
       "       [3., 0.]])"
      ]
     },
     "execution_count": 196,
     "metadata": {},
     "output_type": "execute_result"
    }
   ],
   "source": [
    "tmp = np.zeros((3,2))\n",
    "tmp[0,1] = 2\n",
    "tmp[2,0] = 3\n",
    "tmp[1,0] = 4\n",
    "tmp[0,0] = 1\n",
    "tmp"
   ]
  },
  {
   "cell_type": "code",
   "execution_count": 197,
   "id": "heated-conditions",
   "metadata": {},
   "outputs": [
    {
     "data": {
      "text/plain": [
       "array([[0.26894142, 0.73105858],\n",
       "       [0.98201379, 0.01798621],\n",
       "       [0.95257413, 0.04742587]])"
      ]
     },
     "execution_count": 197,
     "metadata": {},
     "output_type": "execute_result"
    }
   ],
   "source": [
    "softmax(tmp)"
   ]
  },
  {
   "cell_type": "code",
   "execution_count": null,
   "id": "fundamental-telescope",
   "metadata": {},
   "outputs": [],
   "source": []
  }
 ],
 "metadata": {
  "kernelspec": {
   "display_name": "Python 3",
   "language": "python",
   "name": "python3"
  },
  "language_info": {
   "codemirror_mode": {
    "name": "ipython",
    "version": 3
   },
   "file_extension": ".py",
   "mimetype": "text/x-python",
   "name": "python",
   "nbconvert_exporter": "python",
   "pygments_lexer": "ipython3",
   "version": "3.7.3"
  }
 },
 "nbformat": 4,
 "nbformat_minor": 5
}
